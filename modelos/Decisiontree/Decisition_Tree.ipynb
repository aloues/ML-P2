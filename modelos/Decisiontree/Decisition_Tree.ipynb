{
  "cells": [
    {
      "cell_type": "markdown",
      "metadata": {
        "id": "EhXwVpA52_8f"
      },
      "source": [
        " Decision Tree\n"
      ]
    },
    {
      "cell_type": "code",
      "execution_count": 5,
      "metadata": {
        "id": "zwFnJsE6vjf8"
      },
      "outputs": [],
      "source": [
        "import numpy as np\n",
        "from collections import Counter\n",
        "\n",
        "class Node:\n",
        "    def __init__(self, feature=None, threshold=None, left=None, right=None, *, value=None):\n",
        "        self.feature = feature\n",
        "        self.threshold = threshold\n",
        "        self.left = left\n",
        "        self.right = right\n",
        "        self.value = value\n",
        "\n",
        "    def is_leaf_node(self):\n",
        "        return self.value is not None\n",
        "\n",
        "\n",
        "class DecisionTree:\n",
        "    def __init__(self, min_samples_split=2, min_samples_leaf=1, max_depth=100, n_features=None):\n",
        "        self.min_samples_split = min_samples_split\n",
        "        self.min_samples_leaf = min_samples_leaf  # Add min_samples_leaf parameter\n",
        "        self.max_depth = max_depth\n",
        "        self.n_features = n_features\n",
        "        self.root = None\n",
        "\n",
        "    def fit(self, X, y):\n",
        "        self.n_features = X.shape[1] if not self.n_features else min(X.shape[1], self.n_features)\n",
        "        self.root = self._grow_tree(X, y)\n",
        "\n",
        "    def _grow_tree(self, X, y, depth=0):\n",
        "        n_samples, n_feats = X.shape\n",
        "        n_labels = len(np.unique(y))\n",
        "\n",
        "        if (depth >= self.max_depth or n_labels == 1 or n_samples < self.min_samples_split):\n",
        "            leaf_value = self._most_common_label(y)\n",
        "            return Node(value=leaf_value)\n",
        "\n",
        "        feat_idxs = np.random.choice(n_feats, self.n_features, replace=False)\n",
        "\n",
        "        best_feature, best_thresh = self._best_split(X, y, feat_idxs)\n",
        "\n",
        "        left_idxs, right_idxs = self._split(X[:, best_feature], best_thresh)\n",
        "\n",
        "        if len(left_idxs) < self.min_samples_leaf or len(right_idxs) < self.min_samples_leaf:\n",
        "            leaf_value = self._most_common_label(y)\n",
        "            return Node(value=leaf_value)\n",
        "\n",
        "        left = self._grow_tree(X[left_idxs, :], y[left_idxs], depth + 1)\n",
        "        right = self._grow_tree(X[right_idxs, :], y[right_idxs], depth + 1)\n",
        "        return Node(best_feature, best_thresh, left, right)\n",
        "\n",
        "    def _best_split(self, X, y, feat_idxs):\n",
        "        best_gain = -1\n",
        "        split_idx, split_threshold = None, None\n",
        "\n",
        "        for feat_idx in feat_idxs:\n",
        "            X_column = X[:, feat_idx]\n",
        "            thresholds = np.unique(X_column)\n",
        "\n",
        "            for thr in thresholds:\n",
        "                gain = self._information_gain(y, X_column, thr)\n",
        "\n",
        "                if gain > best_gain:\n",
        "                    best_gain = gain\n",
        "                    split_idx = feat_idx\n",
        "                    split_threshold = thr\n",
        "\n",
        "        return split_idx, split_threshold\n",
        "\n",
        "    def _information_gain(self, y, X_column, threshold):\n",
        "        parent_entropy = self._entropy(y)\n",
        "\n",
        "        # Create children\n",
        "        left_idxs, right_idxs = self._split(X_column, threshold)\n",
        "\n",
        "        if len(left_idxs) == 0 or len(right_idxs) == 0:\n",
        "            return 0\n",
        "\n",
        "        n = len(y)\n",
        "        n_l, n_r = len(left_idxs), len(right_idxs)\n",
        "        e_l, e_r = self._entropy(y[left_idxs]), self._entropy(y[right_idxs])\n",
        "        child_entropy = (n_l / n) * e_l + (n_r / n) * e_r\n",
        "\n",
        "        # Calculate the Information Gain\n",
        "        information_gain = parent_entropy - child_entropy\n",
        "        return information_gain\n",
        "\n",
        "    def _split(self, X_column, split_thresh):\n",
        "        left_idxs = np.argwhere(X_column <= split_thresh).flatten()\n",
        "        right_idxs = np.argwhere(X_column > split_thresh).flatten()\n",
        "        return left_idxs, right_idxs\n",
        "\n",
        "    def _entropy(self, y):\n",
        "        hist = np.bincount(y)\n",
        "        ps = hist / len(y)\n",
        "        return -np.sum([p * np.log(p) for p in ps if p > 0])\n",
        "\n",
        "    def _most_common_label(self, y):\n",
        "        counter = Counter(y)\n",
        "        value = counter.most_common(1)[0][0]\n",
        "        return value\n",
        "\n",
        "    def predict(self, X):\n",
        "        return np.array([self._traverse_tree(x, self.root) for x in X])\n",
        "\n",
        "    def _traverse_tree(self, x, node):\n",
        "        if node.is_leaf_node():\n",
        "            return node.value\n",
        "\n",
        "        if x[node.feature] <= node.threshold:\n",
        "            return self._traverse_tree(x, node.left)\n",
        "        return self._traverse_tree(x, node.right)\n",
        "\n",
        "    def get_params(self, deep=True):\n",
        "        return {\n",
        "            \"min_samples_split\": self.min_samples_split,\n",
        "            \"min_samples_leaf\": self.min_samples_leaf,\n",
        "            \"max_depth\": self.max_depth,\n",
        "            \"n_features\": self.n_features\n",
        "        }\n",
        "\n",
        "    def set_params(self, **params):\n",
        "        for key, value in params.items():\n",
        "            setattr(self, key, value)\n",
        "        return self\n"
      ]
    },
    {
      "cell_type": "markdown",
      "metadata": {
        "id": "cnhzTfVB3jR4"
      },
      "source": [
        "Procesando data\n"
      ]
    },
    {
      "cell_type": "code",
      "execution_count": 3,
      "metadata": {
        "id": "6GM5Qrcb3lTk"
      },
      "outputs": [],
      "source": [
        "import h5py\n",
        "import numpy as np\n",
        "import pandas as pd\n",
        "import seaborn as sns\n",
        "import matplotlib.pyplot as plt\n",
        "\n",
        "# Load the EEG dataset\n",
        "with h5py.File('./train.h5', 'r') as file:\n",
        "    eeg_data = file['x'][:]  # EEG time series data\n",
        "    labels = file['y'][:]     # Labels (alcoholic or control)\n",
        "\n",
        "n_points = eeg_data.shape[2]\n",
        "subject_data = eeg_data[:, 0, :n_points]  # Obtener la señal de EEG de todos los sujetos\n",
        "\n",
        "# Convertir los datos EEG y las etiquetas a un DataFrame\n",
        "time_series_data = pd.DataFrame({\n",
        "    'id': np.repeat(np.arange(subject_data.shape[0]), n_points),  # 204 sujetos\n",
        "    'time': np.tile(np.arange(n_points), subject_data.shape[0]),  # Tiempo para cada punto de muestra\n",
        "    'value': subject_data.flatten()  # Valores de EEG\n",
        "})\n"
      ]
    },
    {
      "cell_type": "markdown",
      "source": [
        "Usando BOSS"
      ],
      "metadata": {
        "id": "N-4ElY0X330H"
      }
    },
    {
      "cell_type": "code",
      "execution_count": 49,
      "metadata": {
        "colab": {
          "base_uri": "https://localhost:8080/",
          "height": 656
        },
        "id": "l1xO6rOvbG69",
        "outputId": "352ada40-0410-4486-8a52-3a8469aa6087"
      },
      "outputs": [
        {
          "output_type": "stream",
          "name": "stdout",
          "text": [
            "Accuracy:  0.7317073170731707\n",
            "F1 Score:  0.56\n",
            "Confusion Matrix:\n",
            " [[23  7]\n",
            " [ 4  7]]\n"
          ]
        },
        {
          "output_type": "display_data",
          "data": {
            "text/plain": [
              "<Figure size 800x600 with 1 Axes>"
            ],
            "image/png": "[encoded data removed]"
          },
          "metadata": {}
        }
      ],
      "source": [
        "#!pip install pyts\n",
        "from imblearn.over_sampling import SMOTE\n",
        "import numpy as np\n",
        "from collections import Counter\n",
        "from scipy.sparse import csr_matrix\n",
        "import h5py\n",
        "import pandas as pd\n",
        "from pyts.transformation import BOSS\n",
        "from sklearn.model_selection import train_test_split\n",
        "from sklearn.metrics import accuracy_score, f1_score, confusion_matrix\n",
        "from sklearn.decomposition import PCA\n",
        "import seaborn as sns\n",
        "\n",
        "# Aplicar la transformación BOSS\n",
        "n_bins = 4  # Número de bins en el modelo BOSS\n",
        "boss = BOSS(n_bins=n_bins)\n",
        "X_transformed = boss.fit_transform(subject_data, labels)\n",
        "\n",
        "# Dividir datos en conjuntos de entrenamiento y prueba\n",
        "X_train, X_test, y_train, y_test = train_test_split(X_transformed, labels, test_size=0.2, random_state=42)\n",
        "\n",
        "# Aplicar PCA para reducción de dimensionalidad\n",
        "n_components = 10\n",
        "pca = PCA(n_components=n_components)\n",
        "X_train_pca = pca.fit_transform(X_train)\n",
        "X_test_pca = pca.transform(X_test)\n",
        "\n",
        "# Entrenar un clasificador de árbol de decisión\n",
        "dt = DecisionTree(max_depth= 10, min_samples_leaf= 2, min_samples_split= 5)\n",
        "dt.fit(X_train_pca, y_train)\n",
        "\n",
        "# Realizar predicciones\n",
        "y_pred = dt.predict(X_test_pca)\n",
        "\n",
        "# Calcular y mostrar la precisión\n",
        "accuracy = accuracy_score(y_test, y_pred)\n",
        "print(\"Accuracy: \", accuracy)\n",
        "\n",
        "f1 = f1_score(y_test, y_pred)\n",
        "print(\"F1 Score: \", f1)\n",
        "\n",
        "# Calcular la matriz de confusión\n",
        "conf_matrix = confusion_matrix(y_test, y_pred)\n",
        "print(\"Confusion Matrix:\\n\", conf_matrix)\n",
        "\n",
        "# Visualizar la matriz de confusión con seaborn\n",
        "plt.figure(figsize=(8, 6))\n",
        "sns.heatmap(conf_matrix, annot=True, fmt='d', cmap='Blues', cbar=False,\n",
        "            xticklabels=['Control', 'Alcoholic'], yticklabels=['Control', 'Alcoholic'])\n",
        "plt.xlabel('Predicted Label')\n",
        "plt.ylabel('True Label')\n",
        "plt.title('Confusion Matrix')\n",
        "plt.show()\n"
      ]
    },
    {
      "cell_type": "markdown",
      "metadata": {
        "id": "DL1Qb0oX6Ob_"
      },
      "source": [
        "Optimizando parametros\n"
      ]
    },
    {
      "cell_type": "code",
      "execution_count": 9,
      "metadata": {
        "colab": {
          "base_uri": "https://localhost:8080/"
        },
        "id": "D4Dwk5YukmAR",
        "outputId": "7b2ad215-0235-4547-daec-71afc0477066"
      },
      "outputs": [
        {
          "output_type": "stream",
          "name": "stdout",
          "text": [
            "Accuracy:  0.7317073170731707\n",
            "F1 Score:  0.56\n",
            "[[23  7]\n",
            " [ 4  7]]\n",
            "Mejores parámetros:  {'max_depth': 8, 'min_samples_leaf': 1, 'min_samples_split': 5}\n"
          ]
        }
      ],
      "source": [
        "from imblearn.over_sampling import SMOTE\n",
        "import numpy as np\n",
        "import h5py\n",
        "import pandas as pd\n",
        "from pyts.transformation import BOSS\n",
        "from sklearn.model_selection import train_test_split, GridSearchCV\n",
        "from sklearn.metrics import accuracy_score, f1_score, confusion_matrix\n",
        "from sklearn.decomposition import PCA\n",
        "\n",
        "# Cargar el conjunto de datos EEG\n",
        "with h5py.File('./train.h5', 'r') as file:\n",
        "    eeg_data = file['x'][:]  # Datos de EEG\n",
        "    labels = file['y'][:]     # Etiquetas (alcohólico o control)\n",
        "\n",
        "n_points = eeg_data.shape[2]\n",
        "subject_data = eeg_data[:, 0, :n_points]\n",
        "\n",
        "# Aplicar la transformación BOSS\n",
        "n_bins = 4  # Número de bins en el modelo BOSS\n",
        "boss = BOSS(n_bins=n_bins)\n",
        "X_transformed = boss.fit_transform(subject_data, labels)\n",
        "\n",
        "# Dividir datos en conjuntos de entrenamiento y prueba\n",
        "X_train, X_test, y_train, y_test = train_test_split(X_transformed, labels, test_size=0.2, random_state=42)\n",
        "\n",
        "# Aplicar PCA para reducción de dimensionalidad\n",
        "n_components = 10  # Ajusta este número\n",
        "pca = PCA(n_components=n_components)\n",
        "X_train_pca = pca.fit_transform(X_train)\n",
        "X_test_pca = pca.transform(X_test)\n",
        "\n",
        "\n",
        "dt = DecisionTree()\n",
        "\n",
        "# Definir los parámetros para GridSearchCV\n",
        "param_grid = {\n",
        "\n",
        "    'max_depth': [2, 4, 6, 8, 10],\n",
        "    'min_samples_split': [2, 5, 10],\n",
        "    'min_samples_leaf': [1, 2, 4, 5],\n",
        "}\n",
        "\n",
        "# Configurar GridSearchCV\n",
        "grid_search = GridSearchCV(estimator=dt, param_grid=param_grid, scoring='f1', cv=5, n_jobs=-1)\n",
        "grid_search.fit(X_train_pca, y_train)\n",
        "\n",
        "# Obtener el mejor clasificador\n",
        "best_dt = grid_search.best_estimator_\n",
        "\n",
        "# Realizar predicciones en el conjunto de prueba\n",
        "y_pred = best_dt.predict(X_test_pca)\n",
        "\n",
        "# Calcular y mostrar la precisión\n",
        "accuracy = accuracy_score(y_test, y_pred)\n",
        "print(\"Accuracy: \", accuracy)\n",
        "\n",
        "f1 = f1_score(y_test, y_pred)\n",
        "print(\"F1 Score: \", f1)\n",
        "\n",
        "print(confusion_matrix(y_test, y_pred))\n",
        "\n",
        "# Mostrar los mejores parámetros encontrados\n",
        "print(\"Mejores parámetros: \", grid_search.best_params_)\n"
      ]
    },
    {
      "cell_type": "markdown",
      "source": [
        "Subir al Kaggle:"
      ],
      "metadata": {
        "id": "nDdTrnIChQNU"
      }
    },
    {
      "cell_type": "code",
      "source": [
        "#!pip install pyts\n",
        "import h5py\n",
        "import numpy as np\n",
        "import pandas as pd\n",
        "from pyts.transformation import BOSS\n",
        "from sklearn.decomposition import PCA\n",
        "\n",
        "# Cargar el conjunto de datos de EEG (entrenamiento)\n",
        "with h5py.File('./train.h5', 'r') as file:\n",
        "    eeg_data = file['x'][:]  # Datos de series temporales EEG\n",
        "    labels = file['y'][:]    # Etiquetas (alcohólico o control)\n",
        "\n",
        "n_points = eeg_data.shape[2]  # Número de puntos por serie temporal\n",
        "subject_data = eeg_data[:, 0, :n_points]  # Obtener la señal de EEG de todos los sujetos\n",
        "\n",
        "# Convertir los datos EEG y las etiquetas a un DataFrame\n",
        "time_series_data = pd.DataFrame({\n",
        "    'id': np.repeat(np.arange(subject_data.shape[0]), n_points),  # IDs de los sujetos\n",
        "    'time': np.tile(np.arange(n_points), subject_data.shape[0]),  # Tiempo para cada punto de muestra\n",
        "    'value': subject_data.flatten()  # Valores de EEG\n",
        "})\n",
        "\n",
        "# Aplicar la transformación BOSS\n",
        "n_bins = 4  # Número de bins en el modelo BOSS\n",
        "boss = BOSS(n_bins=n_bins)\n",
        "X_transformed = boss.fit_transform(subject_data, labels)\n",
        "\n",
        "# Aplicar PCA para reducción de dimensionalidad\n",
        "n_components = 10\n",
        "pca = PCA(n_components=n_components)\n",
        "X_train_pca = pca.fit_transform(X_transformed)\n",
        "\n",
        "# Entrenar un clasificador de árbol de decisión\n",
        "dt = DecisionTree(max_depth=10, min_samples_leaf=2, min_samples_split=5)\n",
        "dt.fit(X_train_pca, labels)\n",
        "\n",
        "# --- Predicción en el test set ---\n",
        "# Cargar los datos de test\n",
        "with h5py.File('./test.h5', 'r') as file:\n",
        "    test_data = file['x'][:]  # Datos de test de EEG\n",
        "\n",
        "# Obtener la señal de EEG de los datos de test\n",
        "test_subject_data = test_data[:, 0, :n_points]\n",
        "\n",
        "# Transformar los datos de test con el mismo modelo BOSS\n",
        "X_test_transformed = boss.transform(test_subject_data)\n",
        "\n",
        "# Aplicar PCA a los datos de test\n",
        "X_test_pca = pca.transform(X_test_transformed)\n",
        "\n",
        "# Realizar predicciones en el test set\n",
        "y_test_pred = dt.predict(X_test_pca)\n",
        "\n",
        "# Guardar predicciones en un archivo CSV para Kaggle\n",
        "submission_df = pd.DataFrame({'ID': np.arange(1, len(y_test_pred) + 1), 'results': y_test_pred})\n",
        "submission_df.to_csv('submission.csv', index=False)\n"
      ],
      "metadata": {
        "id": "867URpWIfSSl"
      },
      "execution_count": 14,
      "outputs": []
    }
  ],
  "metadata": {
    "colab": {
      "provenance": []
    },
    "kernelspec": {
      "display_name": "Python 3",
      "name": "python3"
    }
  },
  "nbformat": 4,
  "nbformat_minor": 0
}
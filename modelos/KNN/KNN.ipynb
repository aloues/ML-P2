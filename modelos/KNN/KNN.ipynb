{
  "cells": [
    {
      "cell_type": "markdown",
      "metadata": {
        "id": "EhXwVpA52_8f"
      },
      "source": [
        "KNN:"
      ]
    },
    {
      "cell_type": "code",
      "execution_count": 51,
      "metadata": {
        "id": "zwFnJsE6vjf8",
        "colab": {
          "base_uri": "https://localhost:8080/",
          "height": 656
        },
        "outputId": "f9d4f7bf-451b-41a3-9842-8baae0a45075"
      },
      "outputs": [
        {
          "output_type": "stream",
          "name": "stdout",
          "text": [
            "Accuracy:  0.7804878048780488\n",
            "F1 Score:  0.5263157894736842\n",
            "Confusion Matrix: \n",
            " [[27  3]\n",
            " [ 6  5]]\n"
          ]
        },
        {
          "output_type": "display_data",
          "data": {
            "text/plain": [
              "<Figure size 800x600 with 1 Axes>"
            ],
            "image/png": "[encoded data removed]"
          },
          "metadata": {}
        }
      ],
      "source": [
        "import numpy as np\n",
        "from collections import Counter\n",
        "from sklearn.metrics import accuracy_score, f1_score, confusion_matrix\n",
        "from scipy.spatial.distance import euclidean\n",
        "import seaborn as sns\n",
        "\n",
        "class KNearestNeighbors:\n",
        "    def __init__(self, k=5):\n",
        "        self.k = k\n",
        "        self.X_train = None\n",
        "        self.y_train = None\n",
        "\n",
        "    def fit(self, X_train, y_train):\n",
        "        self.X_train = X_train\n",
        "        self.y_train = y_train\n",
        "\n",
        "    def _compute_distances(self, X_test_instance):\n",
        "        distances = [euclidean(X_test_instance, x_train) for x_train in self.X_train]\n",
        "        return distances\n",
        "\n",
        "    def _get_neighbors(self, X_test_instance):\n",
        "        distances = self._compute_distances(X_test_instance)\n",
        "        sorted_indices = np.argsort(distances)\n",
        "        k_nearest_indices = sorted_indices[:self.k]\n",
        "        return k_nearest_indices\n",
        "\n",
        "    def predict(self, X_test):\n",
        "        y_pred = []\n",
        "        for test_instance in X_test:\n",
        "            neighbors_indices = self._get_neighbors(test_instance)\n",
        "            k_nearest_labels = [self.y_train[i] for i in neighbors_indices]\n",
        "            # Determinar la clase mayoritaria entre los vecinos\n",
        "            majority_label = Counter(k_nearest_labels).most_common(1)[0][0]\n",
        "            y_pred.append(majority_label)\n",
        "        return np.array(y_pred)\n",
        "    def set_params(self, **params):\n",
        "        self.k = params.get('k', self.k)\n",
        "        return self\n",
        "\n",
        "\n",
        "# 1. Cargar los datos de EEG\n",
        "import h5py\n",
        "with h5py.File('./train.h5', 'r') as file:\n",
        "    eeg_data = file['x'][:]  # Datos de EEG\n",
        "    labels = file['y'][:]    # Etiquetas (alcohólico o control)\n",
        "\n",
        "# 2. Aplicar BOSS\n",
        "n_bins = 4\n",
        "from pyts.transformation import BOSS\n",
        "boss = BOSS(n_bins=n_bins)\n",
        "X_transformed = boss.fit_transform(eeg_data[:, 0, :eeg_data.shape[2]], labels)\n",
        "\n",
        "# 3. Dividir datos en conjuntos de entrenamiento y prueba\n",
        "from sklearn.model_selection import train_test_split\n",
        "X_train, X_test, y_train, y_test = train_test_split(X_transformed, labels, test_size=0.2, random_state=42)\n",
        "\n",
        "# 4. Aplicar PCA para reducción de dimensionalidad\n",
        "from sklearn.decomposition import PCA\n",
        "pca = PCA(n_components=30)#4 , 30 ,3 = 0.52\n",
        "X_train_pca = pca.fit_transform(X_train)\n",
        "X_test_pca = pca.transform(X_test)\n",
        "\n",
        "# 5. Entrenar el modelo KNN\n",
        "knn = KNearestNeighbors(k=3)\n",
        "knn.fit(X_train_pca, y_train)\n",
        "\n",
        "# 6. Realizar predicciones\n",
        "y_pred = knn.predict(X_test_pca)\n",
        "\n",
        "# 7. Calcular métricas\n",
        "accuracy = accuracy_score(y_test, y_pred)\n",
        "f1 = f1_score(y_test, y_pred)\n",
        "conf_matrix = confusion_matrix(y_test, y_pred)\n",
        "print(\"Accuracy: \", accuracy)\n",
        "print(\"F1 Score: \", f1)\n",
        "print(\"Confusion Matrix: \\n\", conf_matrix)\n",
        "# 8. Visualizar la matriz de confusión con seaborn\n",
        "plt.figure(figsize=(8, 6))\n",
        "sns.heatmap(conf_matrix, annot=True, fmt='d', cmap='Blues', cbar=False,\n",
        "            xticklabels=['Control', 'Alcoholic'], yticklabels=['Control', 'Alcoholic'])\n",
        "plt.xlabel('Predicted Label')\n",
        "plt.ylabel('True Label')\n",
        "plt.title('Confusion Matrix')\n",
        "plt.show()"
      ]
    }
  ],
  "metadata": {
    "colab": {
      "provenance": []
    },
    "kernelspec": {
      "display_name": "Python 3",
      "name": "python3"
    }
  },
  "nbformat": 4,
  "nbformat_minor": 0
}
{
  "cells": [
    {
      "cell_type": "code",
      "execution_count": 1,
      "metadata": {
        "colab": {
          "base_uri": "https://localhost:8080/"
        },
        "id": "_kNN5ZMCU1I_",
        "outputId": "21aea1f6-4a08-4424-a18a-38555389f77f"
      },
      "outputs": [
        {
          "name": "stdout",
          "output_type": "stream",
          "text": [
            "Requirement already satisfied: pyts in c:\\users\\usuario\\appdata\\local\\programs\\python\\python310\\lib\\site-packages (0.13.0)\n",
            "Requirement already satisfied: joblib>=1.1.1 in c:\\users\\usuario\\appdata\\local\\programs\\python\\python310\\lib\\site-packages (from pyts) (1.4.2)\n",
            "Requirement already satisfied: scipy>=1.8.1 in c:\\users\\usuario\\appdata\\local\\programs\\python\\python310\\lib\\site-packages (from pyts) (1.14.1)\n",
            "Requirement already satisfied: scikit-learn>=1.2.0 in c:\\users\\usuario\\appdata\\local\\programs\\python\\python310\\lib\\site-packages (from pyts) (1.5.2)\n",
            "Requirement already satisfied: numba>=0.55.2 in c:\\users\\usuario\\appdata\\local\\programs\\python\\python310\\lib\\site-packages (from pyts) (0.60.0)\n",
            "Requirement already satisfied: numpy>=1.22.4 in c:\\users\\usuario\\appdata\\local\\programs\\python\\python310\\lib\\site-packages (from pyts) (2.0.2)\n",
            "Requirement already satisfied: llvmlite<0.44,>=0.43.0dev0 in c:\\users\\usuario\\appdata\\local\\programs\\python\\python310\\lib\\site-packages (from numba>=0.55.2->pyts) (0.43.0)\n",
            "Requirement already satisfied: threadpoolctl>=3.1.0 in c:\\users\\usuario\\appdata\\local\\programs\\python\\python310\\lib\\site-packages (from scikit-learn>=1.2.0->pyts) (3.5.0)\n",
            "Note: you may need to restart the kernel to use updated packages.\n"
          ]
        },
        {
          "name": "stderr",
          "output_type": "stream",
          "text": [
            "WARNING: You are using pip version 22.0.4; however, version 24.2 is available.\n",
            "You should consider upgrading via the 'c:\\Users\\Usuario\\AppData\\Local\\Programs\\Python\\Python310\\python.exe -m pip install --upgrade pip' command.\n"
          ]
        }
      ],
      "source": [
        "pip install pyts;"
      ]
    },
    {
      "cell_type": "code",
      "execution_count": 2,
      "metadata": {
        "colab": {
          "base_uri": "https://localhost:8080/"
        },
        "id": "wCypdioGVAao",
        "outputId": "03934aa1-32f8-4f04-fe6f-6f79849fdc98"
      },
      "outputs": [
        {
          "name": "stdout",
          "output_type": "stream",
          "text": [
            "Requirement already satisfied: h5py in c:\\users\\usuario\\appdata\\local\\programs\\python\\python39\\lib\\site-packages (3.12.1)\n",
            "Requirement already satisfied: numpy>=1.19.3 in c:\\users\\usuario\\appdata\\local\\programs\\python\\python39\\lib\\site-packages (from h5py) (2.0.2)\n",
            "Requirement already satisfied: pandas in c:\\users\\usuario\\appdata\\local\\programs\\python\\python39\\lib\\site-packages (1.4.1)\n",
            "Requirement already satisfied: python-dateutil>=2.8.1 in c:\\users\\usuario\\appdata\\local\\programs\\python\\python39\\lib\\site-packages (from pandas) (2.8.2)\n",
            "Requirement already satisfied: pytz>=2020.1 in c:\\users\\usuario\\appdata\\local\\programs\\python\\python39\\lib\\site-packages (from pandas) (2022.1)\n",
            "Requirement already satisfied: numpy>=1.18.5 in c:\\users\\usuario\\appdata\\local\\programs\\python\\python39\\lib\\site-packages (from pandas) (2.0.2)\n",
            "Requirement already satisfied: six>=1.5 in c:\\users\\usuario\\appdata\\local\\programs\\python\\python39\\lib\\site-packages (from python-dateutil>=2.8.1->pandas) (1.16.0)\n"
          ]
        }
      ],
      "source": [
        "!pip install h5py;\n",
        "!pip install pandas;"
      ]
    },
    {
      "cell_type": "code",
      "execution_count": 3,
      "metadata": {},
      "outputs": [
        {
          "name": "stdout",
          "output_type": "stream",
          "text": [
            "Requirement already satisfied: pandas in c:\\users\\usuario\\appdata\\local\\programs\\python\\python310\\lib\\site-packages (2.2.3)\n",
            "Requirement already satisfied: tzdata>=2022.7 in c:\\users\\usuario\\appdata\\local\\programs\\python\\python310\\lib\\site-packages (from pandas) (2024.2)\n",
            "Requirement already satisfied: pytz>=2020.1 in c:\\users\\usuario\\appdata\\local\\programs\\python\\python310\\lib\\site-packages (from pandas) (2024.2)\n",
            "Requirement already satisfied: numpy>=1.22.4 in c:\\users\\usuario\\appdata\\local\\programs\\python\\python310\\lib\\site-packages (from pandas) (2.0.2)\n",
            "Requirement already satisfied: python-dateutil>=2.8.2 in c:\\users\\usuario\\appdata\\roaming\\python\\python310\\site-packages (from pandas) (2.9.0.post0)\n",
            "Requirement already satisfied: six>=1.5 in c:\\users\\usuario\\appdata\\roaming\\python\\python310\\site-packages (from python-dateutil>=2.8.2->pandas) (1.16.0)\n",
            "Note: you may need to restart the kernel to use updated packages.\n"
          ]
        },
        {
          "name": "stderr",
          "output_type": "stream",
          "text": [
            "WARNING: You are using pip version 22.0.4; however, version 24.2 is available.\n",
            "You should consider upgrading via the 'c:\\Users\\Usuario\\AppData\\Local\\Programs\\Python\\Python310\\python.exe -m pip install --upgrade pip' command.\n"
          ]
        }
      ],
      "source": [
        "pip install pandas;"
      ]
    },
    {
      "cell_type": "code",
      "execution_count": 4,
      "metadata": {},
      "outputs": [
        {
          "name": "stdout",
          "output_type": "stream",
          "text": [
            "Requirement already satisfied: imbalanced-learn in c:\\users\\usuario\\appdata\\local\\programs\\python\\python310\\lib\\site-packages (0.12.3)\n",
            "Requirement already satisfied: numpy>=1.17.3 in c:\\users\\usuario\\appdata\\local\\programs\\python\\python310\\lib\\site-packages (from imbalanced-learn) (2.0.2)\n",
            "Requirement already satisfied: scikit-learn>=1.0.2 in c:\\users\\usuario\\appdata\\local\\programs\\python\\python310\\lib\\site-packages (from imbalanced-learn) (1.5.2)\n",
            "Requirement already satisfied: joblib>=1.1.1 in c:\\users\\usuario\\appdata\\local\\programs\\python\\python310\\lib\\site-packages (from imbalanced-learn) (1.4.2)\n",
            "Requirement already satisfied: scipy>=1.5.0 in c:\\users\\usuario\\appdata\\local\\programs\\python\\python310\\lib\\site-packages (from imbalanced-learn) (1.14.1)\n",
            "Requirement already satisfied: threadpoolctl>=2.0.0 in c:\\users\\usuario\\appdata\\local\\programs\\python\\python310\\lib\\site-packages (from imbalanced-learn) (3.5.0)\n",
            "Note: you may need to restart the kernel to use updated packages.\n"
          ]
        },
        {
          "name": "stderr",
          "output_type": "stream",
          "text": [
            "WARNING: You are using pip version 22.0.4; however, version 24.2 is available.\n",
            "You should consider upgrading via the 'c:\\Users\\Usuario\\AppData\\Local\\Programs\\Python\\Python310\\python.exe -m pip install --upgrade pip' command.\n"
          ]
        }
      ],
      "source": [
        "pip install imbalanced-learn"
      ]
    },
    {
      "cell_type": "code",
      "execution_count": 197,
      "metadata": {},
      "outputs": [
        {
          "name": "stdout",
          "output_type": "stream",
          "text": [
            "Collecting matplotlib\n",
            "  Downloading matplotlib-3.9.2-cp310-cp310-win_amd64.whl (7.8 MB)\n",
            "     ---------------------------------------- 7.8/7.8 MB 118.7 kB/s eta 0:00:00\n",
            "Collecting cycler>=0.10\n",
            "  Downloading cycler-0.12.1-py3-none-any.whl (8.3 kB)\n",
            "Collecting pyparsing>=2.3.1\n",
            "  Downloading pyparsing-3.1.4-py3-none-any.whl (104 kB)\n",
            "     ------------------------------------ 104.1/104.1 KB 214.8 kB/s eta 0:00:00\n",
            "Collecting contourpy>=1.0.1\n",
            "  Downloading contourpy-1.3.0-cp310-cp310-win_amd64.whl (216 kB)\n",
            "     ------------------------------------ 216.0/216.0 KB 274.4 kB/s eta 0:00:00\n",
            "Requirement already satisfied: python-dateutil>=2.7 in c:\\users\\usuario\\appdata\\roaming\\python\\python310\\site-packages (from matplotlib) (2.9.0.post0)\n",
            "Collecting kiwisolver>=1.3.1\n",
            "  Downloading kiwisolver-1.4.7-cp310-cp310-win_amd64.whl (55 kB)\n",
            "     -------------------------------------- 55.9/55.9 KB 585.1 kB/s eta 0:00:00\n",
            "Requirement already satisfied: packaging>=20.0 in c:\\users\\usuario\\appdata\\roaming\\python\\python310\\site-packages (from matplotlib) (24.1)\n",
            "Collecting pillow>=8\n",
            "  Downloading pillow-10.4.0-cp310-cp310-win_amd64.whl (2.6 MB)\n",
            "     ---------------------------------------- 2.6/2.6 MB 214.0 kB/s eta 0:00:00\n",
            "Requirement already satisfied: numpy>=1.23 in c:\\users\\usuario\\appdata\\local\\programs\\python\\python310\\lib\\site-packages (from matplotlib) (2.0.2)\n",
            "Collecting fonttools>=4.22.0\n",
            "  Downloading fonttools-4.54.1-cp310-cp310-win_amd64.whl (2.2 MB)\n",
            "     ---------------------------------------- 2.2/2.2 MB 128.1 kB/s eta 0:00:00\n",
            "Requirement already satisfied: six>=1.5 in c:\\users\\usuario\\appdata\\roaming\\python\\python310\\site-packages (from python-dateutil>=2.7->matplotlib) (1.16.0)\n",
            "Installing collected packages: pyparsing, pillow, kiwisolver, fonttools, cycler, contourpy, matplotlib\n",
            "Successfully installed contourpy-1.3.0 cycler-0.12.1 fonttools-4.54.1 kiwisolver-1.4.7 matplotlib-3.9.2 pillow-10.4.0 pyparsing-3.1.4\n",
            "Note: you may need to restart the kernel to use updated packages.\n"
          ]
        },
        {
          "name": "stderr",
          "output_type": "stream",
          "text": [
            "  WARNING: The scripts fonttools.exe, pyftmerge.exe, pyftsubset.exe and ttx.exe are installed in 'c:\\Users\\Usuario\\AppData\\Local\\Programs\\Python\\Python310\\Scripts' which is not on PATH.\n",
            "  Consider adding this directory to PATH or, if you prefer to suppress this warning, use --no-warn-script-location.\n",
            "WARNING: You are using pip version 22.0.4; however, version 24.2 is available.\n",
            "You should consider upgrading via the 'c:\\Users\\Usuario\\AppData\\Local\\Programs\\Python\\Python310\\python.exe -m pip install --upgrade pip' command.\n"
          ]
        }
      ],
      "source": [
        "pip install matplotlib\n"
      ]
    },
    {
      "cell_type": "code",
      "execution_count": 199,
      "metadata": {},
      "outputs": [
        {
          "name": "stdout",
          "output_type": "stream",
          "text": [
            "Collecting seaborn\n",
            "  Downloading seaborn-0.13.2-py3-none-any.whl (294 kB)\n",
            "     ------------------------------------ 294.9/294.9 KB 865.3 kB/s eta 0:00:00\n",
            "Requirement already satisfied: numpy!=1.24.0,>=1.20 in c:\\users\\usuario\\appdata\\local\\programs\\python\\python310\\lib\\site-packages (from seaborn) (2.0.2)\n",
            "Requirement already satisfied: pandas>=1.2 in c:\\users\\usuario\\appdata\\local\\programs\\python\\python310\\lib\\site-packages (from seaborn) (2.2.3)\n",
            "Requirement already satisfied: matplotlib!=3.6.1,>=3.4 in c:\\users\\usuario\\appdata\\local\\programs\\python\\python310\\lib\\site-packages (from seaborn) (3.9.2)\n",
            "Requirement already satisfied: contourpy>=1.0.1 in c:\\users\\usuario\\appdata\\local\\programs\\python\\python310\\lib\\site-packages (from matplotlib!=3.6.1,>=3.4->seaborn) (1.3.0)\n",
            "Requirement already satisfied: kiwisolver>=1.3.1 in c:\\users\\usuario\\appdata\\local\\programs\\python\\python310\\lib\\site-packages (from matplotlib!=3.6.1,>=3.4->seaborn) (1.4.7)\n",
            "Requirement already satisfied: packaging>=20.0 in c:\\users\\usuario\\appdata\\roaming\\python\\python310\\site-packages (from matplotlib!=3.6.1,>=3.4->seaborn) (24.1)\n",
            "Requirement already satisfied: pyparsing>=2.3.1 in c:\\users\\usuario\\appdata\\local\\programs\\python\\python310\\lib\\site-packages (from matplotlib!=3.6.1,>=3.4->seaborn) (3.1.4)\n",
            "Requirement already satisfied: python-dateutil>=2.7 in c:\\users\\usuario\\appdata\\roaming\\python\\python310\\site-packages (from matplotlib!=3.6.1,>=3.4->seaborn) (2.9.0.post0)\n",
            "Requirement already satisfied: fonttools>=4.22.0 in c:\\users\\usuario\\appdata\\local\\programs\\python\\python310\\lib\\site-packages (from matplotlib!=3.6.1,>=3.4->seaborn) (4.54.1)\n",
            "Requirement already satisfied: pillow>=8 in c:\\users\\usuario\\appdata\\local\\programs\\python\\python310\\lib\\site-packages (from matplotlib!=3.6.1,>=3.4->seaborn) (10.4.0)\n",
            "Requirement already satisfied: cycler>=0.10 in c:\\users\\usuario\\appdata\\local\\programs\\python\\python310\\lib\\site-packages (from matplotlib!=3.6.1,>=3.4->seaborn) (0.12.1)\n",
            "Requirement already satisfied: tzdata>=2022.7 in c:\\users\\usuario\\appdata\\local\\programs\\python\\python310\\lib\\site-packages (from pandas>=1.2->seaborn) (2024.2)\n",
            "Requirement already satisfied: pytz>=2020.1 in c:\\users\\usuario\\appdata\\local\\programs\\python\\python310\\lib\\site-packages (from pandas>=1.2->seaborn) (2024.2)\n",
            "Requirement already satisfied: six>=1.5 in c:\\users\\usuario\\appdata\\roaming\\python\\python310\\site-packages (from python-dateutil>=2.7->matplotlib!=3.6.1,>=3.4->seaborn) (1.16.0)\n",
            "Installing collected packages: seaborn\n",
            "Successfully installed seaborn-0.13.2\n",
            "Note: you may need to restart the kernel to use updated packages.\n"
          ]
        },
        {
          "name": "stderr",
          "output_type": "stream",
          "text": [
            "WARNING: You are using pip version 22.0.4; however, version 24.2 is available.\n",
            "You should consider upgrading via the 'c:\\Users\\Usuario\\AppData\\Local\\Programs\\Python\\Python310\\python.exe -m pip install --upgrade pip' command.\n"
          ]
        }
      ],
      "source": [
        "pip install seaborn\n"
      ]
    },
    {
      "cell_type": "code",
      "execution_count": 2,
      "metadata": {
        "colab": {
          "base_uri": "https://localhost:8080/"
        },
        "id": "XH6gwCqDVNPX",
        "outputId": "2a232ba4-459d-417b-bc98-77ac2d1622bd"
      },
      "outputs": [],
      "source": [
        "#carga de archivos\n",
        "\n",
        "test_name = \"test.h5\"\n",
        "train_name = \"train.h5\""
      ]
    },
    {
      "cell_type": "code",
      "execution_count": 201,
      "metadata": {
        "colab": {
          "base_uri": "https://localhost:8080/"
        },
        "id": "PwFWRPO9Wm-w",
        "outputId": "a6fea2fa-4d87-434f-a56d-0a95fc2c5ffc"
      },
      "outputs": [
        {
          "name": "stdout",
          "output_type": "stream",
          "text": [
            "Available datasets train: ['x', 'y']\n"
          ]
        }
      ],
      "source": [
        "import h5py\n",
        "import numpy as np\n",
        "import pandas as pd\n",
        "import pyts\n",
        "from sklearn.decomposition import PCA\n",
        "from sklearn.model_selection import GridSearchCV\n",
        "from sklearn.model_selection import train_test_split\n",
        "from pyts.transformation import WEASEL\n",
        "from pyts.transformation import BOSS\n",
        "from sklearn.metrics import accuracy_score, f1_score\n",
        "\n",
        "with h5py.File(train_name, 'r') as file:\n",
        "    dataset_names_train = list(file.keys())\n",
        "    print(\"Available datasets train:\", dataset_names_train)\n",
        "\n",
        "with h5py.File(train_name, 'r') as file:\n",
        "    eeg_data = file['x'][:]  \n",
        "    data = np.reshape(eeg_data[:], (eeg_data.shape[0], -1))\n",
        "    df = pd.DataFrame(data)\n",
        "    labels = file['y'][:]    \n",
        "    data2 = np.reshape(labels[:], (labels.shape[0], -1))\n",
        "    df2 = pd.DataFrame(data2)\n",
        "\n"
      ]
    },
    {
      "cell_type": "code",
      "execution_count": 96,
      "metadata": {
        "colab": {
          "base_uri": "https://localhost:8080/"
        },
        "id": "vhJqFqNPk7pf",
        "outputId": "6b709239-a3d1-4565-9fd0-4a729cad5b8b"
      },
      "outputs": [
        {
          "name": "stdout",
          "output_type": "stream",
          "text": [
            "(204, 18530)\n"
          ]
        }
      ],
      "source": [
        "# Elimina las dimensiones de tamaño 1\n",
        "data_squeezed = np.reshape(eeg_data, (eeg_data.shape[0], -1))\n",
        "\n",
        "print(data_squeezed.shape)"
      ]
    },
    {
      "cell_type": "code",
      "execution_count": 97,
      "metadata": {},
      "outputs": [],
      "source": [
        "#Algoritmo de SVM no lineal\n",
        "\n",
        "class SVMNonLinear:\n",
        "    def __init__(self, learning_rate=0.001, lambda_param=0.01, n_iters=1000, gamma=0.1, C=1.0):\n",
        "        self.learning_rate = learning_rate\n",
        "        self.lambda_param = lambda_param \n",
        "        self.n_iters = n_iters\n",
        "        self.gamma = gamma  \n",
        "        self.C = C          \n",
        "        self.alpha = None    \n",
        "        self.b = None        \n",
        "        self.X_train = None  \n",
        "        self.y_train = None  \n",
        "\n",
        "    def rbf_kernel(self, x1, x2):\n",
        "        return np.exp(-self.gamma * np.linalg.norm(x1 - x2) ** 2)\n",
        "\n",
        "    def fit(self, X, y):\n",
        "        y_ = np.where(y == 0, -1, 1) # hacemos el cambio de 0 a -1 ya que SVM trabaja con ese parametro\n",
        "        n_samples, n_features = X.shape\n",
        "        self.alpha = np.zeros(n_samples)\n",
        "        self.b = 0\n",
        "        self.X_train = X\n",
        "        self.y_train = y_\n",
        "\n",
        "        for _ in range(self.n_iters):\n",
        "            for i in range(n_samples):\n",
        "                condition = y_[i] * (np.sum(self.alpha * y_ * self._rbf_sum(X[i])) - self.b) >= 1\n",
        "                if condition:\n",
        "                    self.alpha[i] -= self.learning_rate * (2 * self.lambda_param * self.alpha[i])\n",
        "                else:\n",
        "                    self.alpha[i] += self.learning_rate * y_[i]\n",
        "                    self.b -= self.learning_rate * y_[i]\n",
        "\n",
        "    def _rbf_sum(self, x_i):\n",
        "        return np.array([self.rbf_kernel(x_i, x_j) for x_j in self.X_train])\n",
        "\n",
        "    def predict(self, X):\n",
        "        y_pred = []\n",
        "        for x in X:\n",
        "            pred = np.sum(self.alpha * self.y_train * self._rbf_sum(x)) - self.b\n",
        "            y_pred.append(np.sign(pred))\n",
        "        return np.where(np.array(y_pred) == -1, 0, 1) #volvemos a cambiar el parametro ahora de -1 a 0\n"
      ]
    },
    {
      "cell_type": "code",
      "execution_count": 178,
      "metadata": {
        "id": "5jzkz9SPlS89"
      },
      "outputs": [
        {
          "name": "stdout",
          "output_type": "stream",
          "text": [
            "X_train Shape: (163, 18530)\n",
            "X_test Shape: (41, 18530)\n",
            "y_train Shape: (163,)\n",
            "y_test Shape: (41,)\n"
          ]
        }
      ],
      "source": [
        "X_train, X_test, y_train, y_test = train_test_split(data_squeezed, labels, test_size=0.2, random_state=42)\n",
        "\n",
        "print(\"X_train Shape:\", X_train.shape) \n",
        "print(\"X_test Shape:\", X_test.shape)    \n",
        "print(\"y_train Shape:\", y_train.shape)  \n",
        "print(\"y_test Shape:\", y_test.shape)"
      ]
    },
    {
      "cell_type": "code",
      "execution_count": 179,
      "metadata": {},
      "outputs": [],
      "source": [
        "#smote pruebaaaaaaaaaaa\n",
        "from imblearn.over_sampling import SMOTE\n",
        "\n",
        "smote = SMOTE(random_state=42)\n",
        "X_res, y_res = smote.fit_resample(X_train, y_train)"
      ]
    },
    {
      "cell_type": "code",
      "execution_count": 181,
      "metadata": {},
      "outputs": [
        {
          "name": "stdout",
          "output_type": "stream",
          "text": [
            "X_train Shape después de PCA: (238, 47)\n",
            "X_test Shape después de PCA: (41, 47)\n"
          ]
        }
      ],
      "source": [
        "pca = PCA(n_components=47)\n",
        "data_pca = pca.fit_transform(X_res)\n",
        "X_train_pca= np.asarray(data_pca)\n",
        "X_test_pca = pca.transform(X_test)\n",
        "\n",
        "# Imprimir las formas después de aplicar PCA\n",
        "print(\"X_train Shape después de PCA:\", X_train_pca.shape) \n",
        "print(\"X_test Shape después de PCA:\", X_test_pca.shape)"
      ]
    },
    {
      "cell_type": "code",
      "execution_count": 183,
      "metadata": {},
      "outputs": [
        {
          "name": "stdout",
          "output_type": "stream",
          "text": [
            "X_train BOSS Shape: (238, 256)\n",
            "X_test BOSS Shape: (41, 256)\n",
            "X_train Boss Shape: (238, 256)\n",
            "X_test Boss Shape: (41, 256)\n"
          ]
        }
      ],
      "source": [
        "#Boss\n",
        "boss = BOSS()\n",
        "X_train_boss = boss.fit_transform(X_train_pca, y_res)\n",
        "X_test_boss = boss.transform(X_test_pca)\n",
        "\n",
        "print(\"X_train BOSS Shape:\", X_train_boss.shape)\n",
        "print(\"X_test BOSS Shape:\", X_test_boss.shape)\n",
        "\n",
        "#Cambiar de dispersa a densa\n",
        "X_train_Boss_dense = np.asarray(X_train_boss.todense())\n",
        "X_test_Boss_dense = np.asarray(X_test_boss.todense())\n",
        "\n",
        "print(\"X_train Boss Shape:\", X_train_Boss_dense.shape)\n",
        "print(\"X_test Boss Shape:\", X_test_Boss_dense.shape)"
      ]
    },
    {
      "cell_type": "code",
      "execution_count": 186,
      "metadata": {},
      "outputs": [
        {
          "name": "stdout",
          "output_type": "stream",
          "text": [
            "[0 0 0 0 0 0 0 0 0 0 0 1 1 1 1 0 0 1 0 0 0 0 0 1 0 0 0 0 1 0 0 1 0 0 0 0 1\n",
            " 1 0 1 0 1 0 0 1 0 0 0 0 0 0 1 0 0 0 0 0 0 0 0 0 0 1 0 0 1 1 1 1 0 0 0 1 1\n",
            " 0 0 0 1 1 1 1 0 0 1 0 1 0 0 0 0 0 0 0 0 1 0 0 0 0 1 0 0 0 1 0 0 0 0 0 1 0\n",
            " 0 1 0 1 0 0 0 1 0 1 0 0 0 0 0 0 0 1 0 0 0 0 0 0 1 0 0 0 1 0 0 0 1 0 0 0 0\n",
            " 1 0 0 0 1 0 1 0 1 1 0 0 0 0 0]\n",
            "Predicciones completas: [0 0 0 0 0 0 0 0 0 0 0 0 0 0 0 0 0 0 0 0 0 1 0 0 0 0 0 0 0 0 0 0 0 0 0 1 0\n",
            " 0 0 0 0]\n",
            "Accuracy : 0.6829268292682927\n",
            "F1-Score : 0.5938494167550371\n"
          ]
        }
      ],
      "source": [
        "#Pruebas con SVM implementado por nosotros usando Boss\n",
        "\n",
        "svm_nl = SVMNonLinear(learning_rate=0.001, lambda_param=0.01, n_iters=1000, gamma=0.1)\n",
        "svm_nl.fit(X_train_Boss_dense, y_res)\n",
        "print(y_train)\n",
        "y_pred_l = svm_nl.predict(X_test_Boss_dense)\n",
        "print(\"Predicciones completas:\", y_pred_l)\n",
        "\n",
        "accuracy_l = accuracy_score(y_test, y_pred_l)\n",
        "f1_l = f1_score(y_test, y_pred_l, average='weighted')\n",
        "\n",
        "print(f\"Accuracy : {accuracy_l}\")\n",
        "print(f\"F1-Score : {f1_l}\")"
      ]
    },
    {
      "cell_type": "code",
      "execution_count": 200,
      "metadata": {},
      "outputs": [
        {
          "data": {
            "image/png": "[encoded data removed]",
            "text/plain": [
              "<Figure size 800x600 with 1 Axes>"
            ]
          },
          "metadata": {},
          "output_type": "display_data"
        }
      ],
      "source": [
        "from sklearn.metrics import confusion_matrix, classification_report\n",
        "import matplotlib.pyplot as plt\n",
        "import seaborn as sns\n",
        "\n",
        "cm = confusion_matrix(y_test, y_pred_l)\n",
        "plt.figure(figsize=(8, 6))\n",
        "sns.heatmap(cm, annot=True, fmt=\"d\", cmap=\"Blues\", cbar=False, xticklabels=[0, 1], yticklabels=[0, 1])\n",
        "plt.xlabel(\"Predicted Label\")\n",
        "plt.ylabel(\"True Label\")\n",
        "plt.title(\"Confusion Matrix\")\n",
        "plt.show()"
      ]
    },
    {
      "cell_type": "code",
      "execution_count": 187,
      "metadata": {},
      "outputs": [
        {
          "name": "stdout",
          "output_type": "stream",
          "text": [
            "EEG Data Shape: (205, 1, 18530)\n",
            "      0         1         2         3         4         5         6      \\\n",
            "0  0.029938  0.061432  0.072388  0.081329  0.078033  0.089691  0.071564   \n",
            "1  0.000275  0.001160  0.001556  0.001740  0.002380  0.003693  0.004883   \n",
            "2 -0.002899 -0.003510  0.000458  0.002991  0.005920  0.007355  0.008728   \n",
            "3  0.008636  0.018158  0.015717  0.015991  0.015442  0.015564  0.014679   \n",
            "4 -0.011475 -0.022217 -0.017456 -0.018890 -0.019714 -0.021301 -0.025055   \n",
            "\n",
            "      7         8         9      ...     18520     18521     18522     18523  \\\n",
            "0  0.072205  0.062988  0.057098  ... -0.000580  0.001617  0.003540  0.003662   \n",
            "1  0.005310  0.005676  0.005310  ...  0.013000  0.009399  0.005981  0.001801   \n",
            "2  0.008698  0.007507  0.005341  ... -0.014679 -0.019745 -0.022583 -0.023346   \n",
            "3  0.014923  0.013916  0.014008  ...  0.007874  0.006989  0.006531  0.006012   \n",
            "4 -0.033569 -0.039215 -0.038483  ...  0.007263  0.008270  0.010071  0.012146   \n",
            "\n",
            "      18524     18525     18526     18527     18528     18529  \n",
            "0  0.002411  0.003143  0.002594  0.002045  0.002594  0.000549  \n",
            "1 -0.002045 -0.006378 -0.010986 -0.015106 -0.019196 -0.022736  \n",
            "2 -0.020325 -0.014557 -0.006927  0.001343  0.008972  0.015472  \n",
            "3  0.005066  0.005646  0.004944  0.005127  0.003754  0.003174  \n",
            "4  0.014221  0.015442  0.015778  0.015320  0.015198  0.015656  \n",
            "\n",
            "[5 rows x 18530 columns]\n",
            "<class 'pandas.core.frame.DataFrame'>\n",
            "RangeIndex: 205 entries, 0 to 204\n",
            "Columns: 18530 entries, 0 to 18529\n",
            "dtypes: float64(18530)\n",
            "memory usage: 29.0 MB\n",
            "None\n"
          ]
        }
      ],
      "source": [
        "## sacar ahora con el test.h5\n",
        "with h5py.File(test_name, 'r') as file:\n",
        "    eeg_data_test = file['x'][:]  \n",
        "    data = np.reshape(eeg_data_test[:], (eeg_data_test.shape[0], -1))\n",
        "    df_t = pd.DataFrame(data)\n",
        "\n",
        "print(\"EEG Data Shape:\", eeg_data_test.shape)  \n",
        "\n",
        "print(df_t.head())\n",
        "print(df_t.info())"
      ]
    },
    {
      "cell_type": "code",
      "execution_count": 188,
      "metadata": {},
      "outputs": [
        {
          "name": "stdout",
          "output_type": "stream",
          "text": [
            "(205, 18530)\n"
          ]
        }
      ],
      "source": [
        "# Elimina las dimensiones de tamaño 1\n",
        "data_squeezed_t = np.reshape(eeg_data_test, (eeg_data_test.shape[0], -1))\n",
        "\n",
        "print(data_squeezed_t.shape)"
      ]
    },
    {
      "cell_type": "code",
      "execution_count": 192,
      "metadata": {},
      "outputs": [
        {
          "name": "stdout",
          "output_type": "stream",
          "text": [
            "(205, 47)\n"
          ]
        }
      ],
      "source": [
        "pca = PCA(n_components=47)  \n",
        "X_test_pca_t = pca.fit_transform(data_squeezed_t)\n",
        "X_test_pca_t= np.asarray(X_test_pca_t)\n",
        "print(X_test_pca_t.shape)\n"
      ]
    },
    {
      "cell_type": "code",
      "execution_count": 193,
      "metadata": {},
      "outputs": [
        {
          "name": "stdout",
          "output_type": "stream",
          "text": [
            "X_test Boss Shape: (205, 256)\n"
          ]
        }
      ],
      "source": [
        "#Boss\n",
        "boss = BOSS()\n",
        "X_test_boss_t = boss.fit_transform(X_test_pca_t)\n",
        "#Cambiar de dispersa a densa\n",
        "X_test_Boss_dense_t = np.asarray(X_test_boss_t.todense())\n",
        "\n",
        "print(\"X_test Boss Shape:\", X_test_Boss_dense_t.shape)    "
      ]
    },
    {
      "cell_type": "code",
      "execution_count": 194,
      "metadata": {},
      "outputs": [
        {
          "name": "stdout",
          "output_type": "stream",
          "text": [
            "Predicciones: [1 0 0 0 0 0 0 0 0 0 0 0 0 0 0 0 0 0 0 0 0 0 0 0 0 0 0 0 0 0 0 0 0 0 0 0 0\n",
            " 0 0 0 0 0 0 0 0 0 0 0 0 0 0 0 0 0 0 0 0 0 0 0 0 0 0 0 0 0 0 0 0 0 0 0 0 0\n",
            " 0 0 0 0 0 0 0 0 0 0 0 0 0 0 0 0 0 0 0 0 0 0 0 0 0 0 0 0 0 0 0 0 0 0 0 0 0\n",
            " 0 0 0 0 0 0 0 0 0 0 0 0 0 0 0 0 0 0 0 0 0 0 0 0 0 0 0 0 0 0 0 0 0 0 0 0 0\n",
            " 0 0 0 0 0 0 0 0 0 0 0 0 0 0 0 0 0 0 0 0 0 0 0 0 0 0 0 0 0 0 0 0 0 0 0 0 0\n",
            " 0 0 0 0 0 0 0 0 0 0 0 0 0 0 0 0 0 0 0 0]\n"
          ]
        }
      ],
      "source": [
        "y_pred_t = svm_nl.predict(X_test_Boss_dense_t)\n",
        "\n",
        "# Mostrar las predicciones\n",
        "print(\"Predicciones:\", y_pred_t)\n"
      ]
    },
    {
      "cell_type": "code",
      "execution_count": 169,
      "metadata": {},
      "outputs": [
        {
          "name": "stdout",
          "output_type": "stream",
          "text": [
            "Archivo submission.csv creado con éxito.\n"
          ]
        }
      ],
      "source": [
        "submission = pd.DataFrame({\n",
        "    'ID':  np.arange(1, len(y_pred_t) + 1),  \n",
        "    'result': y_pred_t  \n",
        "})\n",
        "\n",
        "submission.to_csv('submission2.csv', index=False)\n",
        "\n",
        "print(\"Archivo submission.csv creado con éxito.\")"
      ]
    },
    {
      "cell_type": "code",
      "execution_count": 225,
      "metadata": {},
      "outputs": [
        {
          "name": "stdout",
          "output_type": "stream",
          "text": [
            "Parámetros: lr=0.01, lambda=0.1, gamma=0.01, n_iters=1000 -> Accuracy: 0.3170731707317073\n",
            "Parámetros: lr=0.01, lambda=0.1, gamma=0.01, n_iters=2000 -> Accuracy: 0.3170731707317073\n",
            "Parámetros: lr=0.01, lambda=0.1, gamma=0.1, n_iters=1000 -> Accuracy: 0.6341463414634146\n",
            "Parámetros: lr=0.01, lambda=0.1, gamma=0.1, n_iters=2000 -> Accuracy: 0.6341463414634146\n",
            "Parámetros: lr=0.01, lambda=0.01, gamma=0.01, n_iters=1000 -> Accuracy: 0.2926829268292683\n",
            "Parámetros: lr=0.01, lambda=0.01, gamma=0.01, n_iters=2000 -> Accuracy: 0.3170731707317073\n",
            "Parámetros: lr=0.01, lambda=0.01, gamma=0.1, n_iters=1000 -> Accuracy: 0.6341463414634146\n",
            "Parámetros: lr=0.01, lambda=0.01, gamma=0.1, n_iters=2000 -> Accuracy: 0.6341463414634146\n",
            "Parámetros: lr=0.01, lambda=0.001, gamma=0.01, n_iters=1000 -> Accuracy: 0.2682926829268293\n",
            "Parámetros: lr=0.01, lambda=0.001, gamma=0.01, n_iters=2000 -> Accuracy: 0.3170731707317073\n",
            "Parámetros: lr=0.01, lambda=0.001, gamma=0.1, n_iters=1000 -> Accuracy: 0.6341463414634146\n",
            "Parámetros: lr=0.01, lambda=0.001, gamma=0.1, n_iters=2000 -> Accuracy: 0.6341463414634146\n",
            "Parámetros: lr=0.001, lambda=0.1, gamma=0.01, n_iters=1000 -> Accuracy: 0.36585365853658536\n",
            "Parámetros: lr=0.001, lambda=0.1, gamma=0.01, n_iters=2000 -> Accuracy: 0.3902439024390244\n",
            "Parámetros: lr=0.001, lambda=0.1, gamma=0.1, n_iters=1000 -> Accuracy: 0.6341463414634146\n",
            "Parámetros: lr=0.001, lambda=0.1, gamma=0.1, n_iters=2000 -> Accuracy: 0.6341463414634146\n"
          ]
        },
        {
          "ename": "KeyboardInterrupt",
          "evalue": "",
          "output_type": "error",
          "traceback": [
            "\u001b[1;31m---------------------------------------------------------------------------\u001b[0m",
            "\u001b[1;31mKeyboardInterrupt\u001b[0m                         Traceback (most recent call last)",
            "Cell \u001b[1;32mIn[225], line 17\u001b[0m\n\u001b[0;32m     14\u001b[0m \u001b[38;5;28;01mfor\u001b[39;00m n_iters \u001b[38;5;129;01min\u001b[39;00m n_iters_values:\n\u001b[0;32m     15\u001b[0m     \u001b[38;5;66;03m# Entrenar el modelo con los valores actuales de hiperparámetros\u001b[39;00m\n\u001b[0;32m     16\u001b[0m     svm_nl \u001b[38;5;241m=\u001b[39m SVMNonLinear(learning_rate\u001b[38;5;241m=\u001b[39mlr, lambda_param\u001b[38;5;241m=\u001b[39mlam, n_iters\u001b[38;5;241m=\u001b[39mn_iters, gamma\u001b[38;5;241m=\u001b[39mgamma)\n\u001b[1;32m---> 17\u001b[0m     \u001b[43msvm_nl\u001b[49m\u001b[38;5;241;43m.\u001b[39;49m\u001b[43mfit\u001b[49m\u001b[43m(\u001b[49m\u001b[43mX_train_Boss_dense\u001b[49m\u001b[43m,\u001b[49m\u001b[43m \u001b[49m\u001b[43my_train\u001b[49m\u001b[43m)\u001b[49m\n\u001b[0;32m     19\u001b[0m     \u001b[38;5;66;03m# Evaluar el modelo\u001b[39;00m\n\u001b[0;32m     20\u001b[0m     y_pred_l \u001b[38;5;241m=\u001b[39m svm_nl\u001b[38;5;241m.\u001b[39mpredict(X_test_Boss_dense)\n",
            "Cell \u001b[1;32mIn[142], line 28\u001b[0m, in \u001b[0;36mSVMNonLinear.fit\u001b[1;34m(self, X, y)\u001b[0m\n\u001b[0;32m     26\u001b[0m \u001b[38;5;28;01mfor\u001b[39;00m _ \u001b[38;5;129;01min\u001b[39;00m \u001b[38;5;28mrange\u001b[39m(\u001b[38;5;28mself\u001b[39m\u001b[38;5;241m.\u001b[39mn_iters):\n\u001b[0;32m     27\u001b[0m     \u001b[38;5;28;01mfor\u001b[39;00m i \u001b[38;5;129;01min\u001b[39;00m \u001b[38;5;28mrange\u001b[39m(n_samples):\n\u001b[1;32m---> 28\u001b[0m         condition \u001b[38;5;241m=\u001b[39m y_[i] \u001b[38;5;241m*\u001b[39m (np\u001b[38;5;241m.\u001b[39msum(\u001b[38;5;28mself\u001b[39m\u001b[38;5;241m.\u001b[39malpha \u001b[38;5;241m*\u001b[39m y_ \u001b[38;5;241m*\u001b[39m \u001b[38;5;28;43mself\u001b[39;49m\u001b[38;5;241;43m.\u001b[39;49m\u001b[43m_rbf_sum\u001b[49m\u001b[43m(\u001b[49m\u001b[43mX\u001b[49m\u001b[43m[\u001b[49m\u001b[43mi\u001b[49m\u001b[43m]\u001b[49m\u001b[43m)\u001b[49m) \u001b[38;5;241m-\u001b[39m \u001b[38;5;28mself\u001b[39m\u001b[38;5;241m.\u001b[39mb) \u001b[38;5;241m>\u001b[39m\u001b[38;5;241m=\u001b[39m \u001b[38;5;241m1\u001b[39m\n\u001b[0;32m     29\u001b[0m         \u001b[38;5;28;01mif\u001b[39;00m condition:\n\u001b[0;32m     30\u001b[0m             \u001b[38;5;28mself\u001b[39m\u001b[38;5;241m.\u001b[39malpha[i] \u001b[38;5;241m-\u001b[39m\u001b[38;5;241m=\u001b[39m \u001b[38;5;28mself\u001b[39m\u001b[38;5;241m.\u001b[39mlearning_rate \u001b[38;5;241m*\u001b[39m (\u001b[38;5;241m2\u001b[39m \u001b[38;5;241m*\u001b[39m \u001b[38;5;28mself\u001b[39m\u001b[38;5;241m.\u001b[39mlambda_param \u001b[38;5;241m*\u001b[39m \u001b[38;5;28mself\u001b[39m\u001b[38;5;241m.\u001b[39malpha[i])\n",
            "Cell \u001b[1;32mIn[142], line 36\u001b[0m, in \u001b[0;36mSVMNonLinear._rbf_sum\u001b[1;34m(self, x_i)\u001b[0m\n\u001b[0;32m     35\u001b[0m \u001b[38;5;28;01mdef\u001b[39;00m \u001b[38;5;21m_rbf_sum\u001b[39m(\u001b[38;5;28mself\u001b[39m, x_i):\n\u001b[1;32m---> 36\u001b[0m     \u001b[38;5;28;01mreturn\u001b[39;00m np\u001b[38;5;241m.\u001b[39marray([\u001b[38;5;28mself\u001b[39m\u001b[38;5;241m.\u001b[39mrbf_kernel(x_i, x_j) \u001b[38;5;28;01mfor\u001b[39;00m x_j \u001b[38;5;129;01min\u001b[39;00m \u001b[38;5;28mself\u001b[39m\u001b[38;5;241m.\u001b[39mX_train])\n",
            "Cell \u001b[1;32mIn[142], line 36\u001b[0m, in \u001b[0;36m<listcomp>\u001b[1;34m(.0)\u001b[0m\n\u001b[0;32m     35\u001b[0m \u001b[38;5;28;01mdef\u001b[39;00m \u001b[38;5;21m_rbf_sum\u001b[39m(\u001b[38;5;28mself\u001b[39m, x_i):\n\u001b[1;32m---> 36\u001b[0m     \u001b[38;5;28;01mreturn\u001b[39;00m np\u001b[38;5;241m.\u001b[39marray([\u001b[38;5;28;43mself\u001b[39;49m\u001b[38;5;241;43m.\u001b[39;49m\u001b[43mrbf_kernel\u001b[49m\u001b[43m(\u001b[49m\u001b[43mx_i\u001b[49m\u001b[43m,\u001b[49m\u001b[43m \u001b[49m\u001b[43mx_j\u001b[49m\u001b[43m)\u001b[49m \u001b[38;5;28;01mfor\u001b[39;00m x_j \u001b[38;5;129;01min\u001b[39;00m \u001b[38;5;28mself\u001b[39m\u001b[38;5;241m.\u001b[39mX_train])\n",
            "Cell \u001b[1;32mIn[142], line 16\u001b[0m, in \u001b[0;36mSVMNonLinear.rbf_kernel\u001b[1;34m(self, x1, x2)\u001b[0m\n\u001b[0;32m     15\u001b[0m \u001b[38;5;28;01mdef\u001b[39;00m \u001b[38;5;21mrbf_kernel\u001b[39m(\u001b[38;5;28mself\u001b[39m, x1, x2):\n\u001b[1;32m---> 16\u001b[0m     \u001b[38;5;28;01mreturn\u001b[39;00m np\u001b[38;5;241m.\u001b[39mexp(\u001b[38;5;241m-\u001b[39m\u001b[38;5;28mself\u001b[39m\u001b[38;5;241m.\u001b[39mgamma \u001b[38;5;241m*\u001b[39m \u001b[43mnp\u001b[49m\u001b[38;5;241;43m.\u001b[39;49m\u001b[43mlinalg\u001b[49m\u001b[38;5;241;43m.\u001b[39;49m\u001b[43mnorm\u001b[49m\u001b[43m(\u001b[49m\u001b[43mx1\u001b[49m\u001b[43m \u001b[49m\u001b[38;5;241;43m-\u001b[39;49m\u001b[43m \u001b[49m\u001b[43mx2\u001b[49m\u001b[43m)\u001b[49m \u001b[38;5;241m*\u001b[39m\u001b[38;5;241m*\u001b[39m \u001b[38;5;241m2\u001b[39m)\n",
            "File \u001b[1;32mc:\\Users\\Usuario\\AppData\\Local\\Programs\\Python\\Python310\\lib\\site-packages\\numpy\\linalg\\_linalg.py:2736\u001b[0m, in \u001b[0;36mnorm\u001b[1;34m(x, ord, axis, keepdims)\u001b[0m\n\u001b[0;32m   2734\u001b[0m     sqnorm \u001b[38;5;241m=\u001b[39m x_real\u001b[38;5;241m.\u001b[39mdot(x_real) \u001b[38;5;241m+\u001b[39m x_imag\u001b[38;5;241m.\u001b[39mdot(x_imag)\n\u001b[0;32m   2735\u001b[0m \u001b[38;5;28;01melse\u001b[39;00m:\n\u001b[1;32m-> 2736\u001b[0m     sqnorm \u001b[38;5;241m=\u001b[39m \u001b[43mx\u001b[49m\u001b[38;5;241;43m.\u001b[39;49m\u001b[43mdot\u001b[49m\u001b[43m(\u001b[49m\u001b[43mx\u001b[49m\u001b[43m)\u001b[49m\n\u001b[0;32m   2737\u001b[0m ret \u001b[38;5;241m=\u001b[39m sqrt(sqnorm)\n\u001b[0;32m   2738\u001b[0m \u001b[38;5;28;01mif\u001b[39;00m keepdims:\n",
            "\u001b[1;31mKeyboardInterrupt\u001b[0m: "
          ]
        }
      ],
      "source": [
        "\n",
        "learning_rates = [0.01, 0.001]\n",
        "lambda_params = [0.1, 0.01, 0.001]\n",
        "gammas = [0.01, 0.1]\n",
        "n_iters_values = [1000, 2000]\n",
        "\n",
        "best_params = {}\n",
        "best_accuracy = 0\n",
        "\n",
        "for lr in learning_rates:\n",
        "    for lam in lambda_params:\n",
        "        for gamma in gammas:\n",
        "            for n_iters in n_iters_values:\n",
        "                svm_nl = SVMNonLinear(learning_rate=lr, lambda_param=lam, n_iters=n_iters, gamma=gamma)\n",
        "                svm_nl.fit(X_train_Boss_dense, y_train)\n",
        "                \n",
        "                y_pred_l = svm_nl.predict(X_test_Boss_dense)\n",
        "                accuracy_l = accuracy_score(y_test, y_pred_l)\n",
        "                print(f\"Parámetros: lr={lr}, lambda={lam}, gamma={gamma}, n_iters={n_iters} -> Accuracy: {accuracy_l}\")\n",
        "                \n",
        "                if accuracy_l > best_accuracy:\n",
        "                    best_accuracy = accuracy_l\n",
        "                    best_params = {\n",
        "                        'learning_rate': lr,\n",
        "                        'lambda_param': lam,\n",
        "                        'gamma': gamma,\n",
        "                        'n_iters': n_iters\n",
        "                    }\n",
        "\n",
        "print(f\"Mejores hiperparámetros: {best_params}\")\n",
        "print(f\"Mejor accuracy: {best_accuracy}\")\n"
      ]
    }
  ],
  "metadata": {
    "colab": {
      "provenance": []
    },
    "kernelspec": {
      "display_name": "Python 3",
      "name": "python3"
    },
    "language_info": {
      "codemirror_mode": {
        "name": "ipython",
        "version": 3
      },
      "file_extension": ".py",
      "mimetype": "text/x-python",
      "name": "python",
      "nbconvert_exporter": "python",
      "pygments_lexer": "ipython3",
      "version": "3.10.3"
    }
  },
  "nbformat": 4,
  "nbformat_minor": 0
}
